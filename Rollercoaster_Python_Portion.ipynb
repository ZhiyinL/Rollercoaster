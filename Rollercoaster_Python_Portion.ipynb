{
 "cells": [
  {
   "cell_type": "code",
   "execution_count": 1,
   "metadata": {
    "collapsed": false
   },
   "outputs": [
   ],
   "source": [
    "#I. Sort data by completion (Python Source Code)\n",
    "import csv\n",
    "def func(X):\n",
    "    ctr=0\n",
    "    for i,x in enumerate(X):\n",
    "        if i==17:\n",
    "            continue\n",
    "        if x:\n",
    "            ctr+=1\n",
    "    return ctr\n",
    "with open(\"COMAP_RollerCoasterData_2018.csv\") as csv_file:\n",
    "    csv_reader=csv.reader(csv_file,delimiter=',')\n",
    "    header=next(csv_reader)\n",
    "    data=[]\n",
    "    for line in csv_reader:\n",
    "        for i,x in enumerate(line):\n",
    "            if x==' ':\n",
    "                line[i]=''\n",
    "        data.append(line)\n",
    "    data.sort(key=func,reverse=True)\n",
    "    with open(\"Completion_rank.csv\",\"w\",newline='') as csvfile:\n",
    "        f=csv.writer(csvfile)\n",
    "        f.writerow(header)\n",
    "        for x in data:\n",
    "            f.writerow(x)\n"
   ]
  },
  {
   "cell_type": "code",
   "execution_count": 0,
   "metadata": {
    "collapsed": false
   },
   "outputs": [
   ],
   "source": [
    "#IX. Standardizing Data (Python Source Code)\n",
    "import csv\n",
    "import re\n",
    "import statistics as stats\n",
    "def minsec_to_sec(data):\n",
    "    data=re.findall(\"[0-9]+\\.*[0-9]*\",data)\n",
    "    return 60*float(data[0])+float(data[1])\n",
    "with open(\"Modeling_Completelistof143.csv\") as csv_file:\n",
    "    csv_reader=csv.reader(csv_file)\n",
    "    header=next(csv_reader)\n",
    "    data=[[],[],[],[],[],[],[]]\n",
    "    output=[]\n",
    "    output.append(header)\n",
    "    for line in csv_reader:\n",
    "        for x in range(7):\n",
    "            if(':') not in line[x+1]:\n",
    "                data[x].append(float(line[x+1]))\n",
    "            else:\n",
    "                data[x].append(minsec_to_sec(line[x+1]))\n",
    "            line.append('')\n",
    "        output.append(line)\n",
    "    mi=[]\n",
    "    for x in data:\n",
    "        mi.append((stats.mean(x),stats.stdev(x)))\n",
    "    for i,X in enumerate(data):\n",
    "        for j,x in enumerate(X):\n",
    "            output[j+1][i-7]=(x-mi[i][0])/mi[i][1]"
   ]
  },
  {
   "cell_type": "code",
   "execution_count": 1,
   "metadata": {
    "collapsed": false
   },
   "outputs": [
    {
     "ename": "FileNotFoundError",
     "evalue": "[Errno 2] No such file or directory: 'Standardized.csv'",
     "output_type": "error",
     "traceback": [
      "\u001b[0;31m---------------------------------------------------------------------------\u001b[0m",
      "\u001b[0;31mFileNotFoundError\u001b[0m                         Traceback (most recent call last)",
      "\u001b[0;32m<ipython-input-1-20bf58e2dc6c>\u001b[0m in \u001b[0;36m<module>\u001b[0;34m\u001b[0m\n\u001b[1;32m      3\u001b[0m \u001b[0;32mimport\u001b[0m \u001b[0mnumpy\u001b[0m \u001b[0;32mas\u001b[0m \u001b[0mnp\u001b[0m\u001b[0;34m\u001b[0m\u001b[0;34m\u001b[0m\u001b[0m\n\u001b[1;32m      4\u001b[0m \u001b[0mrand\u001b[0m\u001b[0;34m.\u001b[0m\u001b[0mseed\u001b[0m\u001b[0;34m(\u001b[0m\u001b[0;36m189\u001b[0m\u001b[0;34m)\u001b[0m\u001b[0;34m\u001b[0m\u001b[0;34m\u001b[0m\u001b[0m\n\u001b[0;32m----> 5\u001b[0;31m \u001b[0;32mwith\u001b[0m \u001b[0mopen\u001b[0m\u001b[0;34m(\u001b[0m\u001b[0;34m\"Standardized.csv\"\u001b[0m\u001b[0;34m)\u001b[0m \u001b[0;32mas\u001b[0m \u001b[0mcsv_file\u001b[0m\u001b[0;34m:\u001b[0m\u001b[0;34m\u001b[0m\u001b[0;34m\u001b[0m\u001b[0m\n\u001b[0m\u001b[1;32m      6\u001b[0m     \u001b[0mcsv_reader\u001b[0m\u001b[0;34m=\u001b[0m\u001b[0mcsv\u001b[0m\u001b[0;34m.\u001b[0m\u001b[0mreader\u001b[0m\u001b[0;34m(\u001b[0m\u001b[0mcsv_file\u001b[0m\u001b[0;34m)\u001b[0m\u001b[0;34m\u001b[0m\u001b[0;34m\u001b[0m\u001b[0m\n\u001b[1;32m      7\u001b[0m     \u001b[0mheader\u001b[0m\u001b[0;34m=\u001b[0m\u001b[0mnext\u001b[0m\u001b[0;34m(\u001b[0m\u001b[0mcsv_reader\u001b[0m\u001b[0;34m)\u001b[0m\u001b[0;34m\u001b[0m\u001b[0;34m\u001b[0m\u001b[0m\n",
      "\u001b[0;31mFileNotFoundError\u001b[0m: [Errno 2] No such file or directory: 'Standardized.csv'"
     ]
    }
   ],
   "source": [
    "#X. Random code to pick 10% elements out of the whole standardized list (Python Source Code)\n",
    "import random as rand\n",
    "import numpy as np\n",
    "rand.seed(189)\n",
    "with open(\"Standardized.csv\") as csv_file:\n",
    "    csv_reader=csv.reader(csv_file)\n",
    "    header=next(csv_reader)\n",
    "    data=[]\n",
    "    for line in csv_reader:\n",
    "        data.append(line)\n",
    "    count=len(data)-13\n",
    "    need=rand.sample(range(len(data)),count)\n"
   ]
  },
  {
   "cell_type": "code",
   "execution_count": 0,
   "metadata": {
    "collapsed": false
   },
   "outputs": [
   ],
   "source": [
   ]
  }
 ],
 "metadata": {
  "kernelspec": {
   "display_name": "Python 3 (system-wide)",
   "language": "python",
   "metadata": {
    "cocalc": {
     "description": "Python 3 programming language",
     "priority": 100,
     "url": "https://www.python.org/"
    }
   },
   "name": "python3"
  },
  "language_info": {
   "codemirror_mode": {
    "name": "ipython",
    "version": 3
   },
   "file_extension": ".py",
   "mimetype": "text/x-python",
   "name": "python",
   "nbconvert_exporter": "python",
   "pygments_lexer": "ipython3",
   "version": "3.6.8"
  }
 },
 "nbformat": 4,
 "nbformat_minor": 0
}